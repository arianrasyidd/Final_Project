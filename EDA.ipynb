{
  "nbformat": 4,
  "nbformat_minor": 0,
  "metadata": {
    "colab": {
      "name": "EDA.ipynb",
      "provenance": []
    },
    "kernelspec": {
      "name": "python3",
      "display_name": "Python 3"
    }
  },
  "cells": [
    {
      "cell_type": "markdown",
      "metadata": {
        "id": "lvaA2bkY4rVf",
        "colab_type": "text"
      },
      "source": [
        "#**Spotify Data**"
      ]
    },
    {
      "cell_type": "markdown",
      "metadata": {
        "id": "DC0kftFc6-iz",
        "colab_type": "text"
      },
      "source": [
        "##**The Track Properties**\n",
        "\n",
        "1. **Genre** : The genre of the track\n",
        "2. **Artist Name** : The name of artist\n",
        "3. **Track Name** : The Name of the track\n",
        "4. **Track Id** : ID of the track on spotify\n",
        "5. **Popularity** : The higher the value, the more popular the song is\n",
        "6. **Acousticness** : The higher the value, the more acoustic the song is\n",
        "7. **Dancebility** : The higher the value, the easier it is to dance to this song\n",
        "8. **Duration_ms** : The length of the song in miliseconds\n",
        "9. **Energy** : The energy of a song - The higher the value, the more energetic the song is\n",
        "10. **Instrumentalness** : Represents the amount of vocals in the song. The higher the value, the more instrumental the song is.\n",
        "11. **Key** : The estimated overall key of the track.\n",
        "12. **Liveness** : Describes the probability that the song was recorded with a live audience. The higher the value, the more likely the song is a live recording\n",
        "13. **Loudness** : The higher the value, the louder the song is.\n",
        "14. **Mode** : The mode of the track. Either major or minor\n",
        "15. **Speechiness** : The higher the value, the more spoken word the song contains.\n",
        "16. **Tempo** : The overall estimated tempo of a track in Beats Per Minute (BPM)\n",
        "17. **Time Signature** : An estimated overall time signature of a track. The time signature (meter) is a notational convention to specify how many beats are in each bar (or measure)\n",
        "18. **Valence** : The higher the value, the more positive mood for the song."
      ]
    },
    {
      "cell_type": "markdown",
      "metadata": {
        "id": "Kg3pXCifJlyZ",
        "colab_type": "text"
      },
      "source": [
        "##**Library**\n",
        "First thing first, import the library that we need to support our project"
      ]
    },
    {
      "cell_type": "code",
      "metadata": {
        "id": "k5z-ih1BG7od",
        "colab_type": "code",
        "colab": {}
      },
      "source": [
        "import pandas as pd\n",
        "import numpy as np\n",
        "import matplotlib.pyplot as plt\n",
        "import seaborn as sns\n",
        "from scipy import stats\n",
        "from pandas.plotting import scatter_matrix\n",
        "import warnings\n",
        "warnings.filterwarnings(\"ignore\")\n",
        "%matplotlib inline"
      ],
      "execution_count": 0,
      "outputs": []
    },
    {
      "cell_type": "markdown",
      "metadata": {
        "id": "CeI_h6-B5Gyx",
        "colab_type": "text"
      },
      "source": [
        "##**Opening the Data Sets**"
      ]
    },
    {
      "cell_type": "code",
      "metadata": {
        "ExecuteTime": {
          "end_time": "2019-12-17T03:11:00.099138Z",
          "start_time": "2019-12-17T03:10:57.414198Z"
        },
        "id": "_9OZz0tW5Gyy",
        "colab_type": "code",
        "outputId": "516e75b3-6035-42c9-979c-973bd12526b2",
        "colab": {
          "base_uri": "https://localhost:8080/",
          "height": 428
        }
      },
      "source": [
        "data = pd.read_csv('SpotifyFeatures.csv')\n",
        "print(f'Dataset contains {data.shape[0]} rows and {data.shape[1]} columns')\n",
        "data.head()"
      ],
      "execution_count": 2,
      "outputs": [
        {
          "output_type": "stream",
          "text": [
            "Dataset contains 232725 rows and 18 columns\n"
          ],
          "name": "stdout"
        },
        {
          "output_type": "execute_result",
          "data": {
            "text/html": [
              "<div>\n",
              "<style scoped>\n",
              "    .dataframe tbody tr th:only-of-type {\n",
              "        vertical-align: middle;\n",
              "    }\n",
              "\n",
              "    .dataframe tbody tr th {\n",
              "        vertical-align: top;\n",
              "    }\n",
              "\n",
              "    .dataframe thead th {\n",
              "        text-align: right;\n",
              "    }\n",
              "</style>\n",
              "<table border=\"1\" class=\"dataframe\">\n",
              "  <thead>\n",
              "    <tr style=\"text-align: right;\">\n",
              "      <th></th>\n",
              "      <th>genre</th>\n",
              "      <th>artist_name</th>\n",
              "      <th>track_name</th>\n",
              "      <th>track_id</th>\n",
              "      <th>popularity</th>\n",
              "      <th>acousticness</th>\n",
              "      <th>danceability</th>\n",
              "      <th>duration_ms</th>\n",
              "      <th>energy</th>\n",
              "      <th>instrumentalness</th>\n",
              "      <th>key</th>\n",
              "      <th>liveness</th>\n",
              "      <th>loudness</th>\n",
              "      <th>mode</th>\n",
              "      <th>speechiness</th>\n",
              "      <th>tempo</th>\n",
              "      <th>time_signature</th>\n",
              "      <th>valence</th>\n",
              "    </tr>\n",
              "  </thead>\n",
              "  <tbody>\n",
              "    <tr>\n",
              "      <th>0</th>\n",
              "      <td>Movie</td>\n",
              "      <td>Henri Salvador</td>\n",
              "      <td>C'est beau de faire un Show</td>\n",
              "      <td>0BRjO6ga9RKCKjfDqeFgWV</td>\n",
              "      <td>0</td>\n",
              "      <td>0.611</td>\n",
              "      <td>0.389</td>\n",
              "      <td>99373</td>\n",
              "      <td>0.910</td>\n",
              "      <td>0.000</td>\n",
              "      <td>C#</td>\n",
              "      <td>0.3460</td>\n",
              "      <td>-1.828</td>\n",
              "      <td>Major</td>\n",
              "      <td>0.0525</td>\n",
              "      <td>166.969</td>\n",
              "      <td>4-Apr</td>\n",
              "      <td>0.814</td>\n",
              "    </tr>\n",
              "    <tr>\n",
              "      <th>1</th>\n",
              "      <td>Movie</td>\n",
              "      <td>Martin &amp; les fées</td>\n",
              "      <td>Perdu d'avance (par Gad Elmaleh)</td>\n",
              "      <td>0BjC1NfoEOOusryehmNudP</td>\n",
              "      <td>1</td>\n",
              "      <td>0.246</td>\n",
              "      <td>0.590</td>\n",
              "      <td>137373</td>\n",
              "      <td>0.737</td>\n",
              "      <td>0.000</td>\n",
              "      <td>F#</td>\n",
              "      <td>0.1510</td>\n",
              "      <td>-5.559</td>\n",
              "      <td>Minor</td>\n",
              "      <td>0.0868</td>\n",
              "      <td>174.003</td>\n",
              "      <td>4-Apr</td>\n",
              "      <td>0.816</td>\n",
              "    </tr>\n",
              "    <tr>\n",
              "      <th>2</th>\n",
              "      <td>Movie</td>\n",
              "      <td>Joseph Williams</td>\n",
              "      <td>Don't Let Me Be Lonely Tonight</td>\n",
              "      <td>0CoSDzoNIKCRs124s9uTVy</td>\n",
              "      <td>3</td>\n",
              "      <td>0.952</td>\n",
              "      <td>0.663</td>\n",
              "      <td>170267</td>\n",
              "      <td>0.131</td>\n",
              "      <td>0.000</td>\n",
              "      <td>C</td>\n",
              "      <td>0.1030</td>\n",
              "      <td>-13.879</td>\n",
              "      <td>Minor</td>\n",
              "      <td>0.0362</td>\n",
              "      <td>99.488</td>\n",
              "      <td>4-May</td>\n",
              "      <td>0.368</td>\n",
              "    </tr>\n",
              "    <tr>\n",
              "      <th>3</th>\n",
              "      <td>Movie</td>\n",
              "      <td>Henri Salvador</td>\n",
              "      <td>Dis-moi Monsieur Gordon Cooper</td>\n",
              "      <td>0Gc6TVm52BwZD07Ki6tIvf</td>\n",
              "      <td>0</td>\n",
              "      <td>0.703</td>\n",
              "      <td>0.240</td>\n",
              "      <td>152427</td>\n",
              "      <td>0.326</td>\n",
              "      <td>0.000</td>\n",
              "      <td>C#</td>\n",
              "      <td>0.0985</td>\n",
              "      <td>-12.178</td>\n",
              "      <td>Major</td>\n",
              "      <td>0.0395</td>\n",
              "      <td>171.758</td>\n",
              "      <td>4-Apr</td>\n",
              "      <td>0.227</td>\n",
              "    </tr>\n",
              "    <tr>\n",
              "      <th>4</th>\n",
              "      <td>Movie</td>\n",
              "      <td>Fabien Nataf</td>\n",
              "      <td>Ouverture</td>\n",
              "      <td>0IuslXpMROHdEPvSl1fTQK</td>\n",
              "      <td>4</td>\n",
              "      <td>0.950</td>\n",
              "      <td>0.331</td>\n",
              "      <td>82625</td>\n",
              "      <td>0.225</td>\n",
              "      <td>0.123</td>\n",
              "      <td>F</td>\n",
              "      <td>0.2020</td>\n",
              "      <td>-21.150</td>\n",
              "      <td>Major</td>\n",
              "      <td>0.0456</td>\n",
              "      <td>140.576</td>\n",
              "      <td>4-Apr</td>\n",
              "      <td>0.390</td>\n",
              "    </tr>\n",
              "  </tbody>\n",
              "</table>\n",
              "</div>"
            ],
            "text/plain": [
              "   genre        artist_name  ... time_signature valence\n",
              "0  Movie     Henri Salvador  ...          4-Apr   0.814\n",
              "1  Movie  Martin & les fées  ...          4-Apr   0.816\n",
              "2  Movie    Joseph Williams  ...          4-May   0.368\n",
              "3  Movie     Henri Salvador  ...          4-Apr   0.227\n",
              "4  Movie       Fabien Nataf  ...          4-Apr   0.390\n",
              "\n",
              "[5 rows x 18 columns]"
            ]
          },
          "metadata": {
            "tags": []
          },
          "execution_count": 2
        }
      ]
    },
    {
      "cell_type": "code",
      "metadata": {
        "id": "19OagFnDIrL0",
        "colab_type": "code",
        "outputId": "6c0e516b-2729-45e1-a144-86b94bd18033",
        "colab": {
          "base_uri": "https://localhost:8080/",
          "height": 34
        }
      },
      "source": [
        "data.shape"
      ],
      "execution_count": 3,
      "outputs": [
        {
          "output_type": "execute_result",
          "data": {
            "text/plain": [
              "(232725, 18)"
            ]
          },
          "metadata": {
            "tags": []
          },
          "execution_count": 3
        }
      ]
    },
    {
      "cell_type": "markdown",
      "metadata": {
        "id": "1HNfXyhA5Gy4",
        "colab_type": "text"
      },
      "source": [
        "## **Explore the Data**"
      ]
    },
    {
      "cell_type": "markdown",
      "metadata": {
        "id": "w6BAwikC5Gy7",
        "colab_type": "text"
      },
      "source": [
        "### Inspect Structure\n",
        "First thing to do with our data, is to take a peek onto its structure. Let's use info, describe, and head to see it. "
      ]
    },
    {
      "cell_type": "code",
      "metadata": {
        "ExecuteTime": {
          "end_time": "2019-12-17T03:11:00.387695Z",
          "start_time": "2019-12-17T03:11:00.213156Z"
        },
        "id": "cx-9oSf-5Gy8",
        "colab_type": "code",
        "outputId": "fd8d8b28-b014-4e0e-cb4a-146ba5978928",
        "colab": {
          "base_uri": "https://localhost:8080/",
          "height": 408
        }
      },
      "source": [
        "data.info()"
      ],
      "execution_count": 4,
      "outputs": [
        {
          "output_type": "stream",
          "text": [
            "<class 'pandas.core.frame.DataFrame'>\n",
            "RangeIndex: 232725 entries, 0 to 232724\n",
            "Data columns (total 18 columns):\n",
            "genre               232725 non-null object\n",
            "artist_name         232725 non-null object\n",
            "track_name          232725 non-null object\n",
            "track_id            232725 non-null object\n",
            "popularity          232725 non-null int64\n",
            "acousticness        232725 non-null float64\n",
            "danceability        232725 non-null float64\n",
            "duration_ms         232725 non-null int64\n",
            "energy              232725 non-null float64\n",
            "instrumentalness    232725 non-null float64\n",
            "key                 232725 non-null object\n",
            "liveness            232725 non-null float64\n",
            "loudness            232725 non-null float64\n",
            "mode                232725 non-null object\n",
            "speechiness         232725 non-null float64\n",
            "tempo               232725 non-null float64\n",
            "time_signature      232725 non-null object\n",
            "valence             232725 non-null float64\n",
            "dtypes: float64(9), int64(2), object(7)\n",
            "memory usage: 32.0+ MB\n"
          ],
          "name": "stdout"
        }
      ]
    },
    {
      "cell_type": "code",
      "metadata": {
        "ExecuteTime": {
          "end_time": "2019-12-17T03:11:01.555779Z",
          "start_time": "2019-12-17T03:11:00.646204Z"
        },
        "id": "ZzAGb4aN5GzB",
        "colab_type": "code",
        "outputId": "ef7e7061-41ab-4d54-87bc-4d037aa4cf28",
        "colab": {
          "base_uri": "https://localhost:8080/",
          "height": 390
        }
      },
      "source": [
        "data.describe().T"
      ],
      "execution_count": 5,
      "outputs": [
        {
          "output_type": "execute_result",
          "data": {
            "text/html": [
              "<div>\n",
              "<style scoped>\n",
              "    .dataframe tbody tr th:only-of-type {\n",
              "        vertical-align: middle;\n",
              "    }\n",
              "\n",
              "    .dataframe tbody tr th {\n",
              "        vertical-align: top;\n",
              "    }\n",
              "\n",
              "    .dataframe thead th {\n",
              "        text-align: right;\n",
              "    }\n",
              "</style>\n",
              "<table border=\"1\" class=\"dataframe\">\n",
              "  <thead>\n",
              "    <tr style=\"text-align: right;\">\n",
              "      <th></th>\n",
              "      <th>count</th>\n",
              "      <th>mean</th>\n",
              "      <th>std</th>\n",
              "      <th>min</th>\n",
              "      <th>25%</th>\n",
              "      <th>50%</th>\n",
              "      <th>75%</th>\n",
              "      <th>max</th>\n",
              "    </tr>\n",
              "  </thead>\n",
              "  <tbody>\n",
              "    <tr>\n",
              "      <th>popularity</th>\n",
              "      <td>232725.0</td>\n",
              "      <td>41.127502</td>\n",
              "      <td>18.189948</td>\n",
              "      <td>0.00000</td>\n",
              "      <td>29.0000</td>\n",
              "      <td>43.000000</td>\n",
              "      <td>55.0000</td>\n",
              "      <td>100.000</td>\n",
              "    </tr>\n",
              "    <tr>\n",
              "      <th>acousticness</th>\n",
              "      <td>232725.0</td>\n",
              "      <td>0.368560</td>\n",
              "      <td>0.354768</td>\n",
              "      <td>0.00000</td>\n",
              "      <td>0.0376</td>\n",
              "      <td>0.232000</td>\n",
              "      <td>0.7220</td>\n",
              "      <td>0.996</td>\n",
              "    </tr>\n",
              "    <tr>\n",
              "      <th>danceability</th>\n",
              "      <td>232725.0</td>\n",
              "      <td>0.554364</td>\n",
              "      <td>0.185608</td>\n",
              "      <td>0.05690</td>\n",
              "      <td>0.4350</td>\n",
              "      <td>0.571000</td>\n",
              "      <td>0.6920</td>\n",
              "      <td>0.989</td>\n",
              "    </tr>\n",
              "    <tr>\n",
              "      <th>duration_ms</th>\n",
              "      <td>232725.0</td>\n",
              "      <td>235122.339306</td>\n",
              "      <td>118935.909299</td>\n",
              "      <td>15387.00000</td>\n",
              "      <td>182857.0000</td>\n",
              "      <td>220427.000000</td>\n",
              "      <td>265768.0000</td>\n",
              "      <td>5552917.000</td>\n",
              "    </tr>\n",
              "    <tr>\n",
              "      <th>energy</th>\n",
              "      <td>232725.0</td>\n",
              "      <td>0.570958</td>\n",
              "      <td>0.263456</td>\n",
              "      <td>0.00002</td>\n",
              "      <td>0.3850</td>\n",
              "      <td>0.605000</td>\n",
              "      <td>0.7870</td>\n",
              "      <td>0.999</td>\n",
              "    </tr>\n",
              "    <tr>\n",
              "      <th>instrumentalness</th>\n",
              "      <td>232725.0</td>\n",
              "      <td>0.148301</td>\n",
              "      <td>0.302768</td>\n",
              "      <td>0.00000</td>\n",
              "      <td>0.0000</td>\n",
              "      <td>0.000044</td>\n",
              "      <td>0.0358</td>\n",
              "      <td>0.999</td>\n",
              "    </tr>\n",
              "    <tr>\n",
              "      <th>liveness</th>\n",
              "      <td>232725.0</td>\n",
              "      <td>0.215009</td>\n",
              "      <td>0.198273</td>\n",
              "      <td>0.00967</td>\n",
              "      <td>0.0974</td>\n",
              "      <td>0.128000</td>\n",
              "      <td>0.2640</td>\n",
              "      <td>1.000</td>\n",
              "    </tr>\n",
              "    <tr>\n",
              "      <th>loudness</th>\n",
              "      <td>232725.0</td>\n",
              "      <td>-9.569885</td>\n",
              "      <td>5.998204</td>\n",
              "      <td>-52.45700</td>\n",
              "      <td>-11.7710</td>\n",
              "      <td>-7.762000</td>\n",
              "      <td>-5.5010</td>\n",
              "      <td>3.744</td>\n",
              "    </tr>\n",
              "    <tr>\n",
              "      <th>speechiness</th>\n",
              "      <td>232725.0</td>\n",
              "      <td>0.120765</td>\n",
              "      <td>0.185518</td>\n",
              "      <td>0.02220</td>\n",
              "      <td>0.0367</td>\n",
              "      <td>0.050100</td>\n",
              "      <td>0.1050</td>\n",
              "      <td>0.967</td>\n",
              "    </tr>\n",
              "    <tr>\n",
              "      <th>tempo</th>\n",
              "      <td>232725.0</td>\n",
              "      <td>117.666585</td>\n",
              "      <td>30.898907</td>\n",
              "      <td>30.37900</td>\n",
              "      <td>92.9590</td>\n",
              "      <td>115.778000</td>\n",
              "      <td>139.0540</td>\n",
              "      <td>242.903</td>\n",
              "    </tr>\n",
              "    <tr>\n",
              "      <th>valence</th>\n",
              "      <td>232725.0</td>\n",
              "      <td>0.454917</td>\n",
              "      <td>0.260065</td>\n",
              "      <td>0.00000</td>\n",
              "      <td>0.2370</td>\n",
              "      <td>0.444000</td>\n",
              "      <td>0.6600</td>\n",
              "      <td>1.000</td>\n",
              "    </tr>\n",
              "  </tbody>\n",
              "</table>\n",
              "</div>"
            ],
            "text/plain": [
              "                     count           mean  ...          75%          max\n",
              "popularity        232725.0      41.127502  ...      55.0000      100.000\n",
              "acousticness      232725.0       0.368560  ...       0.7220        0.996\n",
              "danceability      232725.0       0.554364  ...       0.6920        0.989\n",
              "duration_ms       232725.0  235122.339306  ...  265768.0000  5552917.000\n",
              "energy            232725.0       0.570958  ...       0.7870        0.999\n",
              "instrumentalness  232725.0       0.148301  ...       0.0358        0.999\n",
              "liveness          232725.0       0.215009  ...       0.2640        1.000\n",
              "loudness          232725.0      -9.569885  ...      -5.5010        3.744\n",
              "speechiness       232725.0       0.120765  ...       0.1050        0.967\n",
              "tempo             232725.0     117.666585  ...     139.0540      242.903\n",
              "valence           232725.0       0.454917  ...       0.6600        1.000\n",
              "\n",
              "[11 rows x 8 columns]"
            ]
          },
          "metadata": {
            "tags": []
          },
          "execution_count": 5
        }
      ]
    },
    {
      "cell_type": "code",
      "metadata": {
        "id": "8lwvqVb4_dry",
        "colab_type": "code",
        "colab": {
          "base_uri": "https://localhost:8080/",
          "height": 266
        },
        "outputId": "20007a3c-6756-4376-8ac8-f81b5ee55940"
      },
      "source": [
        "data.describe(include=['O']).T"
      ],
      "execution_count": 6,
      "outputs": [
        {
          "output_type": "execute_result",
          "data": {
            "text/html": [
              "<div>\n",
              "<style scoped>\n",
              "    .dataframe tbody tr th:only-of-type {\n",
              "        vertical-align: middle;\n",
              "    }\n",
              "\n",
              "    .dataframe tbody tr th {\n",
              "        vertical-align: top;\n",
              "    }\n",
              "\n",
              "    .dataframe thead th {\n",
              "        text-align: right;\n",
              "    }\n",
              "</style>\n",
              "<table border=\"1\" class=\"dataframe\">\n",
              "  <thead>\n",
              "    <tr style=\"text-align: right;\">\n",
              "      <th></th>\n",
              "      <th>count</th>\n",
              "      <th>unique</th>\n",
              "      <th>top</th>\n",
              "      <th>freq</th>\n",
              "    </tr>\n",
              "  </thead>\n",
              "  <tbody>\n",
              "    <tr>\n",
              "      <th>genre</th>\n",
              "      <td>232725</td>\n",
              "      <td>27</td>\n",
              "      <td>Comedy</td>\n",
              "      <td>9681</td>\n",
              "    </tr>\n",
              "    <tr>\n",
              "      <th>artist_name</th>\n",
              "      <td>232725</td>\n",
              "      <td>14564</td>\n",
              "      <td>Giuseppe Verdi</td>\n",
              "      <td>1394</td>\n",
              "    </tr>\n",
              "    <tr>\n",
              "      <th>track_name</th>\n",
              "      <td>232725</td>\n",
              "      <td>148608</td>\n",
              "      <td>Home</td>\n",
              "      <td>100</td>\n",
              "    </tr>\n",
              "    <tr>\n",
              "      <th>track_id</th>\n",
              "      <td>232725</td>\n",
              "      <td>176774</td>\n",
              "      <td>6sVQNUvcVFTXvlk3ec0ngd</td>\n",
              "      <td>8</td>\n",
              "    </tr>\n",
              "    <tr>\n",
              "      <th>key</th>\n",
              "      <td>232725</td>\n",
              "      <td>12</td>\n",
              "      <td>C</td>\n",
              "      <td>27583</td>\n",
              "    </tr>\n",
              "    <tr>\n",
              "      <th>mode</th>\n",
              "      <td>232725</td>\n",
              "      <td>2</td>\n",
              "      <td>Major</td>\n",
              "      <td>151744</td>\n",
              "    </tr>\n",
              "    <tr>\n",
              "      <th>time_signature</th>\n",
              "      <td>232725</td>\n",
              "      <td>5</td>\n",
              "      <td>4-Apr</td>\n",
              "      <td>200760</td>\n",
              "    </tr>\n",
              "  </tbody>\n",
              "</table>\n",
              "</div>"
            ],
            "text/plain": [
              "                 count  unique                     top    freq\n",
              "genre           232725      27                  Comedy    9681\n",
              "artist_name     232725   14564          Giuseppe Verdi    1394\n",
              "track_name      232725  148608                    Home     100\n",
              "track_id        232725  176774  6sVQNUvcVFTXvlk3ec0ngd       8\n",
              "key             232725      12                       C   27583\n",
              "mode            232725       2                   Major  151744\n",
              "time_signature  232725       5                   4-Apr  200760"
            ]
          },
          "metadata": {
            "tags": []
          },
          "execution_count": 6
        }
      ]
    },
    {
      "cell_type": "markdown",
      "metadata": {
        "id": "zlTQRPod5G0Q",
        "colab_type": "text"
      },
      "source": [
        "### Check for missing values"
      ]
    },
    {
      "cell_type": "code",
      "metadata": {
        "ExecuteTime": {
          "end_time": "2019-12-17T03:11:23.949738Z",
          "start_time": "2019-12-17T03:11:23.914841Z"
        },
        "id": "IM9FYHgx5G0R",
        "colab_type": "code",
        "outputId": "dabc035a-135c-4d3d-c90c-2168f58bcfd7",
        "colab": {
          "base_uri": "https://localhost:8080/",
          "height": 340
        }
      },
      "source": [
        "data.isna().sum()"
      ],
      "execution_count": 7,
      "outputs": [
        {
          "output_type": "execute_result",
          "data": {
            "text/plain": [
              "genre               0\n",
              "artist_name         0\n",
              "track_name          0\n",
              "track_id            0\n",
              "popularity          0\n",
              "acousticness        0\n",
              "danceability        0\n",
              "duration_ms         0\n",
              "energy              0\n",
              "instrumentalness    0\n",
              "key                 0\n",
              "liveness            0\n",
              "loudness            0\n",
              "mode                0\n",
              "speechiness         0\n",
              "tempo               0\n",
              "time_signature      0\n",
              "valence             0\n",
              "dtype: int64"
            ]
          },
          "metadata": {
            "tags": []
          },
          "execution_count": 7
        }
      ]
    },
    {
      "cell_type": "markdown",
      "metadata": {
        "id": "w1HlVfWI5G0W",
        "colab_type": "text"
      },
      "source": [
        "### Check for duplicates"
      ]
    },
    {
      "cell_type": "markdown",
      "metadata": {
        "id": "TIy2XhUV5G0X",
        "colab_type": "text"
      },
      "source": [
        "Each row of this data represents a song. However, there are songs that labelled into multiple genre. Take a look at this data"
      ]
    },
    {
      "cell_type": "code",
      "metadata": {
        "ExecuteTime": {
          "end_time": "2019-12-17T04:53:18.442310Z",
          "start_time": "2019-12-17T04:53:18.278200Z"
        },
        "id": "Z-w1oK2n5G0c",
        "colab_type": "code",
        "colab": {}
      },
      "source": [
        "duplicated_all = data[data.duplicated(subset = 'track_id', keep=False)]\n",
        "duplicated = data[data.duplicated(subset = 'track_id', keep='first')]"
      ],
      "execution_count": 0,
      "outputs": []
    },
    {
      "cell_type": "code",
      "metadata": {
        "ExecuteTime": {
          "end_time": "2019-12-17T04:53:18.590022Z",
          "start_time": "2019-12-17T04:53:18.548445Z"
        },
        "id": "X_NFGAPZ5G0i",
        "colab_type": "code",
        "outputId": "124065df-847e-4e2e-ffe9-ac4af9c2d071",
        "colab": {
          "base_uri": "https://localhost:8080/",
          "height": 241
        }
      },
      "source": [
        "data[data['track_id'] == duplicated['track_id'].iloc[0]]"
      ],
      "execution_count": 9,
      "outputs": [
        {
          "output_type": "execute_result",
          "data": {
            "text/html": [
              "<div>\n",
              "<style scoped>\n",
              "    .dataframe tbody tr th:only-of-type {\n",
              "        vertical-align: middle;\n",
              "    }\n",
              "\n",
              "    .dataframe tbody tr th {\n",
              "        vertical-align: top;\n",
              "    }\n",
              "\n",
              "    .dataframe thead th {\n",
              "        text-align: right;\n",
              "    }\n",
              "</style>\n",
              "<table border=\"1\" class=\"dataframe\">\n",
              "  <thead>\n",
              "    <tr style=\"text-align: right;\">\n",
              "      <th></th>\n",
              "      <th>genre</th>\n",
              "      <th>artist_name</th>\n",
              "      <th>track_name</th>\n",
              "      <th>track_id</th>\n",
              "      <th>popularity</th>\n",
              "      <th>acousticness</th>\n",
              "      <th>danceability</th>\n",
              "      <th>duration_ms</th>\n",
              "      <th>energy</th>\n",
              "      <th>instrumentalness</th>\n",
              "      <th>key</th>\n",
              "      <th>liveness</th>\n",
              "      <th>loudness</th>\n",
              "      <th>mode</th>\n",
              "      <th>speechiness</th>\n",
              "      <th>tempo</th>\n",
              "      <th>time_signature</th>\n",
              "      <th>valence</th>\n",
              "    </tr>\n",
              "  </thead>\n",
              "  <tbody>\n",
              "    <tr>\n",
              "      <th>257</th>\n",
              "      <td>R&amp;B</td>\n",
              "      <td>Doja Cat</td>\n",
              "      <td>Go To Town</td>\n",
              "      <td>6iOvnACn4ChlAw4lWUU4dd</td>\n",
              "      <td>64</td>\n",
              "      <td>0.0716</td>\n",
              "      <td>0.71</td>\n",
              "      <td>217813</td>\n",
              "      <td>0.71</td>\n",
              "      <td>0.000001</td>\n",
              "      <td>C</td>\n",
              "      <td>0.206</td>\n",
              "      <td>-2.474</td>\n",
              "      <td>Major</td>\n",
              "      <td>0.0579</td>\n",
              "      <td>169.944</td>\n",
              "      <td>4-Apr</td>\n",
              "      <td>0.7</td>\n",
              "    </tr>\n",
              "    <tr>\n",
              "      <th>1348</th>\n",
              "      <td>Alternative</td>\n",
              "      <td>Doja Cat</td>\n",
              "      <td>Go To Town</td>\n",
              "      <td>6iOvnACn4ChlAw4lWUU4dd</td>\n",
              "      <td>64</td>\n",
              "      <td>0.0716</td>\n",
              "      <td>0.71</td>\n",
              "      <td>217813</td>\n",
              "      <td>0.71</td>\n",
              "      <td>0.000001</td>\n",
              "      <td>C</td>\n",
              "      <td>0.206</td>\n",
              "      <td>-2.474</td>\n",
              "      <td>Major</td>\n",
              "      <td>0.0579</td>\n",
              "      <td>169.944</td>\n",
              "      <td>4-Apr</td>\n",
              "      <td>0.7</td>\n",
              "    </tr>\n",
              "    <tr>\n",
              "      <th>77710</th>\n",
              "      <td>Children’s Music</td>\n",
              "      <td>Doja Cat</td>\n",
              "      <td>Go To Town</td>\n",
              "      <td>6iOvnACn4ChlAw4lWUU4dd</td>\n",
              "      <td>64</td>\n",
              "      <td>0.0716</td>\n",
              "      <td>0.71</td>\n",
              "      <td>217813</td>\n",
              "      <td>0.71</td>\n",
              "      <td>0.000001</td>\n",
              "      <td>C</td>\n",
              "      <td>0.206</td>\n",
              "      <td>-2.474</td>\n",
              "      <td>Major</td>\n",
              "      <td>0.0579</td>\n",
              "      <td>169.944</td>\n",
              "      <td>4-Apr</td>\n",
              "      <td>0.7</td>\n",
              "    </tr>\n",
              "    <tr>\n",
              "      <th>93651</th>\n",
              "      <td>Indie</td>\n",
              "      <td>Doja Cat</td>\n",
              "      <td>Go To Town</td>\n",
              "      <td>6iOvnACn4ChlAw4lWUU4dd</td>\n",
              "      <td>64</td>\n",
              "      <td>0.0716</td>\n",
              "      <td>0.71</td>\n",
              "      <td>217813</td>\n",
              "      <td>0.71</td>\n",
              "      <td>0.000001</td>\n",
              "      <td>C</td>\n",
              "      <td>0.206</td>\n",
              "      <td>-2.474</td>\n",
              "      <td>Major</td>\n",
              "      <td>0.0579</td>\n",
              "      <td>169.944</td>\n",
              "      <td>4-Apr</td>\n",
              "      <td>0.7</td>\n",
              "    </tr>\n",
              "    <tr>\n",
              "      <th>113770</th>\n",
              "      <td>Pop</td>\n",
              "      <td>Doja Cat</td>\n",
              "      <td>Go To Town</td>\n",
              "      <td>6iOvnACn4ChlAw4lWUU4dd</td>\n",
              "      <td>64</td>\n",
              "      <td>0.0716</td>\n",
              "      <td>0.71</td>\n",
              "      <td>217813</td>\n",
              "      <td>0.71</td>\n",
              "      <td>0.000001</td>\n",
              "      <td>C</td>\n",
              "      <td>0.206</td>\n",
              "      <td>-2.474</td>\n",
              "      <td>Major</td>\n",
              "      <td>0.0579</td>\n",
              "      <td>169.944</td>\n",
              "      <td>4-Apr</td>\n",
              "      <td>0.7</td>\n",
              "    </tr>\n",
              "  </tbody>\n",
              "</table>\n",
              "</div>"
            ],
            "text/plain": [
              "                   genre artist_name  ... time_signature valence\n",
              "257                  R&B    Doja Cat  ...          4-Apr     0.7\n",
              "1348         Alternative    Doja Cat  ...          4-Apr     0.7\n",
              "77710   Children’s Music    Doja Cat  ...          4-Apr     0.7\n",
              "93651              Indie    Doja Cat  ...          4-Apr     0.7\n",
              "113770               Pop    Doja Cat  ...          4-Apr     0.7\n",
              "\n",
              "[5 rows x 18 columns]"
            ]
          },
          "metadata": {
            "tags": []
          },
          "execution_count": 9
        }
      ]
    },
    {
      "cell_type": "code",
      "metadata": {
        "ExecuteTime": {
          "end_time": "2019-12-17T04:53:19.895069Z",
          "start_time": "2019-12-17T04:53:19.890151Z"
        },
        "id": "1mrLHu6e5G0o",
        "colab_type": "code",
        "outputId": "79e873cc-ceb1-4411-98f8-dbccb2f9e873",
        "colab": {
          "base_uri": "https://localhost:8080/",
          "height": 85
        }
      },
      "source": [
        "print(f'''Unique Duplicates: {duplicated.shape[0]}\n",
        "Total Duplicates: {duplicated_all.shape[0]}\n",
        "Total Data: {data.shape[0]}\n",
        "Duplicates %: {round(duplicated_all.shape[0]/data.shape[0]*100, 2)}''')"
      ],
      "execution_count": 10,
      "outputs": [
        {
          "output_type": "stream",
          "text": [
            "Unique Duplicates: 55951\n",
            "Total Duplicates: 91075\n",
            "Total Data: 232725\n",
            "Duplicates %: 39.13\n"
          ],
          "name": "stdout"
        }
      ]
    },
    {
      "cell_type": "markdown",
      "metadata": {
        "id": "dM5GHcmV5Gzh",
        "colab_type": "text"
      },
      "source": [
        "### Feature Engineering"
      ]
    },
    {
      "cell_type": "markdown",
      "metadata": {
        "id": "RjZupWLi5Gzi",
        "colab_type": "text"
      },
      "source": [
        "Now, we need our data to be able to be applied with mathematical expressions (since that how machine learning do that). So, let's change several feature values and cast them into numerical."
      ]
    },
    {
      "cell_type": "code",
      "metadata": {
        "ExecuteTime": {
          "end_time": "2019-12-17T03:11:11.800324Z",
          "start_time": "2019-12-17T03:11:11.704554Z"
        },
        "id": "HA3cCxqj5Gzj",
        "colab_type": "code",
        "outputId": "9e9129a6-665e-40c7-e424-39f77773d3c9",
        "colab": {
          "base_uri": "https://localhost:8080/",
          "height": 204
        }
      },
      "source": [
        "data.select_dtypes(exclude='number').head()"
      ],
      "execution_count": 11,
      "outputs": [
        {
          "output_type": "execute_result",
          "data": {
            "text/html": [
              "<div>\n",
              "<style scoped>\n",
              "    .dataframe tbody tr th:only-of-type {\n",
              "        vertical-align: middle;\n",
              "    }\n",
              "\n",
              "    .dataframe tbody tr th {\n",
              "        vertical-align: top;\n",
              "    }\n",
              "\n",
              "    .dataframe thead th {\n",
              "        text-align: right;\n",
              "    }\n",
              "</style>\n",
              "<table border=\"1\" class=\"dataframe\">\n",
              "  <thead>\n",
              "    <tr style=\"text-align: right;\">\n",
              "      <th></th>\n",
              "      <th>genre</th>\n",
              "      <th>artist_name</th>\n",
              "      <th>track_name</th>\n",
              "      <th>track_id</th>\n",
              "      <th>key</th>\n",
              "      <th>mode</th>\n",
              "      <th>time_signature</th>\n",
              "    </tr>\n",
              "  </thead>\n",
              "  <tbody>\n",
              "    <tr>\n",
              "      <th>0</th>\n",
              "      <td>Movie</td>\n",
              "      <td>Henri Salvador</td>\n",
              "      <td>C'est beau de faire un Show</td>\n",
              "      <td>0BRjO6ga9RKCKjfDqeFgWV</td>\n",
              "      <td>C#</td>\n",
              "      <td>Major</td>\n",
              "      <td>4-Apr</td>\n",
              "    </tr>\n",
              "    <tr>\n",
              "      <th>1</th>\n",
              "      <td>Movie</td>\n",
              "      <td>Martin &amp; les fées</td>\n",
              "      <td>Perdu d'avance (par Gad Elmaleh)</td>\n",
              "      <td>0BjC1NfoEOOusryehmNudP</td>\n",
              "      <td>F#</td>\n",
              "      <td>Minor</td>\n",
              "      <td>4-Apr</td>\n",
              "    </tr>\n",
              "    <tr>\n",
              "      <th>2</th>\n",
              "      <td>Movie</td>\n",
              "      <td>Joseph Williams</td>\n",
              "      <td>Don't Let Me Be Lonely Tonight</td>\n",
              "      <td>0CoSDzoNIKCRs124s9uTVy</td>\n",
              "      <td>C</td>\n",
              "      <td>Minor</td>\n",
              "      <td>4-May</td>\n",
              "    </tr>\n",
              "    <tr>\n",
              "      <th>3</th>\n",
              "      <td>Movie</td>\n",
              "      <td>Henri Salvador</td>\n",
              "      <td>Dis-moi Monsieur Gordon Cooper</td>\n",
              "      <td>0Gc6TVm52BwZD07Ki6tIvf</td>\n",
              "      <td>C#</td>\n",
              "      <td>Major</td>\n",
              "      <td>4-Apr</td>\n",
              "    </tr>\n",
              "    <tr>\n",
              "      <th>4</th>\n",
              "      <td>Movie</td>\n",
              "      <td>Fabien Nataf</td>\n",
              "      <td>Ouverture</td>\n",
              "      <td>0IuslXpMROHdEPvSl1fTQK</td>\n",
              "      <td>F</td>\n",
              "      <td>Major</td>\n",
              "      <td>4-Apr</td>\n",
              "    </tr>\n",
              "  </tbody>\n",
              "</table>\n",
              "</div>"
            ],
            "text/plain": [
              "   genre        artist_name  ...   mode time_signature\n",
              "0  Movie     Henri Salvador  ...  Major          4-Apr\n",
              "1  Movie  Martin & les fées  ...  Minor          4-Apr\n",
              "2  Movie    Joseph Williams  ...  Minor          4-May\n",
              "3  Movie     Henri Salvador  ...  Major          4-Apr\n",
              "4  Movie       Fabien Nataf  ...  Major          4-Apr\n",
              "\n",
              "[5 rows x 7 columns]"
            ]
          },
          "metadata": {
            "tags": []
          },
          "execution_count": 11
        }
      ]
    },
    {
      "cell_type": "code",
      "metadata": {
        "ExecuteTime": {
          "end_time": "2019-12-17T03:11:14.052675Z",
          "start_time": "2019-12-17T03:11:13.898002Z"
        },
        "id": "PCaPU_1U5Gzo",
        "colab_type": "code",
        "outputId": "5e9fd337-92ae-4d9f-8303-c7aaed246042",
        "colab": {
          "base_uri": "https://localhost:8080/",
          "height": 34
        }
      },
      "source": [
        "data['time_signature'].unique().tolist()"
      ],
      "execution_count": 12,
      "outputs": [
        {
          "output_type": "execute_result",
          "data": {
            "text/plain": [
              "['4-Apr', '4-May', '4-Mar', '4-Jan', '0/4']"
            ]
          },
          "metadata": {
            "tags": []
          },
          "execution_count": 12
        }
      ]
    },
    {
      "cell_type": "markdown",
      "metadata": {
        "id": "RPqRXJJtSlRC",
        "colab_type": "text"
      },
      "source": [
        "I assume changing its value into the first numeric value (ie: 4/4 -> 4) won't remove the informations, because all the signature have and supposed to be have the same denominator. "
      ]
    },
    {
      "cell_type": "code",
      "metadata": {
        "ExecuteTime": {
          "end_time": "2019-12-17T03:11:14.628327Z",
          "start_time": "2019-12-17T03:11:14.614322Z"
        },
        "id": "WlqkmS1s5Gzx",
        "colab_type": "code",
        "outputId": "be21acea-a807-414c-da54-b86a997a1fff",
        "colab": {
          "base_uri": "https://localhost:8080/",
          "height": 34
        }
      },
      "source": [
        "data['mode'].unique().tolist()"
      ],
      "execution_count": 13,
      "outputs": [
        {
          "output_type": "execute_result",
          "data": {
            "text/plain": [
              "['Major', 'Minor']"
            ]
          },
          "metadata": {
            "tags": []
          },
          "execution_count": 13
        }
      ]
    },
    {
      "cell_type": "markdown",
      "metadata": {
        "id": "aI4bi5sO5Gz1",
        "colab_type": "text"
      },
      "source": [
        "Let's change the value of Major -> 1 and Minor -> 0. Even if it's not a numerical, but since it's only have 2 value, we can change it into binary (0,1). With 0 means the absence of Major (wich means Minor), and 1 means the occurence of Major"
      ]
    },
    {
      "cell_type": "code",
      "metadata": {
        "ExecuteTime": {
          "end_time": "2019-12-17T03:11:15.706437Z",
          "start_time": "2019-12-17T03:11:15.692476Z"
        },
        "id": "cIXwu1pf5Gz2",
        "colab_type": "code",
        "outputId": "71bd392a-0ebc-46a0-8a55-263f2091f0e2",
        "colab": {
          "base_uri": "https://localhost:8080/",
          "height": 34
        }
      },
      "source": [
        "data['key'].unique().tolist()"
      ],
      "execution_count": 14,
      "outputs": [
        {
          "output_type": "execute_result",
          "data": {
            "text/plain": [
              "['C#', 'F#', 'C', 'F', 'G', 'E', 'D#', 'G#', 'D', 'A#', 'A', 'B']"
            ]
          },
          "metadata": {
            "tags": []
          },
          "execution_count": 14
        }
      ]
    },
    {
      "cell_type": "markdown",
      "metadata": {
        "id": "lQtgWvnG5Gz6",
        "colab_type": "text"
      },
      "source": [
        "In music theory, the basic scale used are chromatic scale, wich divide the tone into 12 keys (C, C#, D, D#, E, F, F#, G, G#, A, A#, B). If you are curious enough, you may visit Daniel White's dissertation: [Potential Mathematical Models for the Western Musical Scale](https://www.skytopia.com/music/theory/scale-dissertation.html), or his [blogpost](https://www.skytopia.com/project/scale.html)\n",
        "\n",
        "\n",
        "Since it contains the value of order, we can safely transform the key into numerical representations. \n",
        "Let's say, 1 to 12."
      ]
    },
    {
      "cell_type": "code",
      "metadata": {
        "ExecuteTime": {
          "end_time": "2019-12-17T03:11:17.224757Z",
          "start_time": "2019-12-17T03:11:16.646937Z"
        },
        "id": "HdjQ7zaT5Gz7",
        "colab_type": "code",
        "outputId": "785efec0-b772-45ed-c6cd-67d22234953b",
        "colab": {
          "base_uri": "https://localhost:8080/",
          "height": 411
        }
      },
      "source": [
        "mode_dict = {'Major' : 1, 'Minor' : 0}\n",
        "key_dict = {'C' : 1, 'C#' : 2, 'D' : 3, 'D#' : 4, 'E' : 5, 'F' : 6, \n",
        "        'F#' : 7, 'G' : 8, 'G#' : 9, 'A' : 10, 'A#' : 11, 'B' : 12}\n",
        "\n",
        "data['time_signature'] = data['time_signature'].apply(lambda x : int(x[0]))\n",
        "data['mode'].replace(mode_dict, inplace=True)\n",
        "data['key'] = data['key'].replace(key_dict).astype(int)\n",
        "\n",
        "data.head()"
      ],
      "execution_count": 15,
      "outputs": [
        {
          "output_type": "execute_result",
          "data": {
            "text/html": [
              "<div>\n",
              "<style scoped>\n",
              "    .dataframe tbody tr th:only-of-type {\n",
              "        vertical-align: middle;\n",
              "    }\n",
              "\n",
              "    .dataframe tbody tr th {\n",
              "        vertical-align: top;\n",
              "    }\n",
              "\n",
              "    .dataframe thead th {\n",
              "        text-align: right;\n",
              "    }\n",
              "</style>\n",
              "<table border=\"1\" class=\"dataframe\">\n",
              "  <thead>\n",
              "    <tr style=\"text-align: right;\">\n",
              "      <th></th>\n",
              "      <th>genre</th>\n",
              "      <th>artist_name</th>\n",
              "      <th>track_name</th>\n",
              "      <th>track_id</th>\n",
              "      <th>popularity</th>\n",
              "      <th>acousticness</th>\n",
              "      <th>danceability</th>\n",
              "      <th>duration_ms</th>\n",
              "      <th>energy</th>\n",
              "      <th>instrumentalness</th>\n",
              "      <th>key</th>\n",
              "      <th>liveness</th>\n",
              "      <th>loudness</th>\n",
              "      <th>mode</th>\n",
              "      <th>speechiness</th>\n",
              "      <th>tempo</th>\n",
              "      <th>time_signature</th>\n",
              "      <th>valence</th>\n",
              "    </tr>\n",
              "  </thead>\n",
              "  <tbody>\n",
              "    <tr>\n",
              "      <th>0</th>\n",
              "      <td>Movie</td>\n",
              "      <td>Henri Salvador</td>\n",
              "      <td>C'est beau de faire un Show</td>\n",
              "      <td>0BRjO6ga9RKCKjfDqeFgWV</td>\n",
              "      <td>0</td>\n",
              "      <td>0.611</td>\n",
              "      <td>0.389</td>\n",
              "      <td>99373</td>\n",
              "      <td>0.910</td>\n",
              "      <td>0.000</td>\n",
              "      <td>2</td>\n",
              "      <td>0.3460</td>\n",
              "      <td>-1.828</td>\n",
              "      <td>1</td>\n",
              "      <td>0.0525</td>\n",
              "      <td>166.969</td>\n",
              "      <td>4</td>\n",
              "      <td>0.814</td>\n",
              "    </tr>\n",
              "    <tr>\n",
              "      <th>1</th>\n",
              "      <td>Movie</td>\n",
              "      <td>Martin &amp; les fées</td>\n",
              "      <td>Perdu d'avance (par Gad Elmaleh)</td>\n",
              "      <td>0BjC1NfoEOOusryehmNudP</td>\n",
              "      <td>1</td>\n",
              "      <td>0.246</td>\n",
              "      <td>0.590</td>\n",
              "      <td>137373</td>\n",
              "      <td>0.737</td>\n",
              "      <td>0.000</td>\n",
              "      <td>7</td>\n",
              "      <td>0.1510</td>\n",
              "      <td>-5.559</td>\n",
              "      <td>0</td>\n",
              "      <td>0.0868</td>\n",
              "      <td>174.003</td>\n",
              "      <td>4</td>\n",
              "      <td>0.816</td>\n",
              "    </tr>\n",
              "    <tr>\n",
              "      <th>2</th>\n",
              "      <td>Movie</td>\n",
              "      <td>Joseph Williams</td>\n",
              "      <td>Don't Let Me Be Lonely Tonight</td>\n",
              "      <td>0CoSDzoNIKCRs124s9uTVy</td>\n",
              "      <td>3</td>\n",
              "      <td>0.952</td>\n",
              "      <td>0.663</td>\n",
              "      <td>170267</td>\n",
              "      <td>0.131</td>\n",
              "      <td>0.000</td>\n",
              "      <td>1</td>\n",
              "      <td>0.1030</td>\n",
              "      <td>-13.879</td>\n",
              "      <td>0</td>\n",
              "      <td>0.0362</td>\n",
              "      <td>99.488</td>\n",
              "      <td>4</td>\n",
              "      <td>0.368</td>\n",
              "    </tr>\n",
              "    <tr>\n",
              "      <th>3</th>\n",
              "      <td>Movie</td>\n",
              "      <td>Henri Salvador</td>\n",
              "      <td>Dis-moi Monsieur Gordon Cooper</td>\n",
              "      <td>0Gc6TVm52BwZD07Ki6tIvf</td>\n",
              "      <td>0</td>\n",
              "      <td>0.703</td>\n",
              "      <td>0.240</td>\n",
              "      <td>152427</td>\n",
              "      <td>0.326</td>\n",
              "      <td>0.000</td>\n",
              "      <td>2</td>\n",
              "      <td>0.0985</td>\n",
              "      <td>-12.178</td>\n",
              "      <td>1</td>\n",
              "      <td>0.0395</td>\n",
              "      <td>171.758</td>\n",
              "      <td>4</td>\n",
              "      <td>0.227</td>\n",
              "    </tr>\n",
              "    <tr>\n",
              "      <th>4</th>\n",
              "      <td>Movie</td>\n",
              "      <td>Fabien Nataf</td>\n",
              "      <td>Ouverture</td>\n",
              "      <td>0IuslXpMROHdEPvSl1fTQK</td>\n",
              "      <td>4</td>\n",
              "      <td>0.950</td>\n",
              "      <td>0.331</td>\n",
              "      <td>82625</td>\n",
              "      <td>0.225</td>\n",
              "      <td>0.123</td>\n",
              "      <td>6</td>\n",
              "      <td>0.2020</td>\n",
              "      <td>-21.150</td>\n",
              "      <td>1</td>\n",
              "      <td>0.0456</td>\n",
              "      <td>140.576</td>\n",
              "      <td>4</td>\n",
              "      <td>0.390</td>\n",
              "    </tr>\n",
              "  </tbody>\n",
              "</table>\n",
              "</div>"
            ],
            "text/plain": [
              "   genre        artist_name  ... time_signature valence\n",
              "0  Movie     Henri Salvador  ...              4   0.814\n",
              "1  Movie  Martin & les fées  ...              4   0.816\n",
              "2  Movie    Joseph Williams  ...              4   0.368\n",
              "3  Movie     Henri Salvador  ...              4   0.227\n",
              "4  Movie       Fabien Nataf  ...              4   0.390\n",
              "\n",
              "[5 rows x 18 columns]"
            ]
          },
          "metadata": {
            "tags": []
          },
          "execution_count": 15
        }
      ]
    },
    {
      "cell_type": "markdown",
      "metadata": {
        "id": "0caWh09O7p8f",
        "colab_type": "text"
      },
      "source": [
        "Let's save this dataframe, so that we can use it later. when we want"
      ]
    },
    {
      "cell_type": "code",
      "metadata": {
        "id": "iTL5X3ZzaR6T",
        "colab_type": "code",
        "colab": {}
      },
      "source": [
        "data.to_csv('clean_df.csv')"
      ],
      "execution_count": 0,
      "outputs": []
    },
    {
      "cell_type": "markdown",
      "metadata": {
        "id": "J-i-nD8O5G0D",
        "colab_type": "text"
      },
      "source": [
        "### Correlation"
      ]
    },
    {
      "cell_type": "code",
      "metadata": {
        "id": "GadIN6tWSU89",
        "colab_type": "code",
        "colab": {}
      },
      "source": [
        "def corr_heatmap(data):\n",
        "    corr_matrix = data.corr()\n",
        "    mask = np.zeros_like(corr_matrix)\n",
        "    mask[np.triu_indices_from(mask)]= True\n",
        "    f, ax = plt.subplots(figsize=(11, 15)) \n",
        "    heatmap = sns.heatmap(corr_matrix, \n",
        "                          mask = mask,\n",
        "                          square = True,\n",
        "                          linewidths = .5,\n",
        "                          cmap = 'coolwarm',\n",
        "                          cbar_kws = {'shrink': .4, \n",
        "                                    'ticks' : [-1, -.5, 0, 0.5, 1]},\n",
        "                          vmin = -1, \n",
        "                          vmax = 1,\n",
        "                          fmt = '.2f',\n",
        "                          annot = True,\n",
        "                          annot_kws = {'size': 12}) #add the column names as labels\n",
        "    ax.set_yticklabels(corr_matrix.columns, rotation = 0)\n",
        "    ax.set_xticklabels(corr_matrix.columns)\n",
        "    sns.set_style({'xtick.bottom': True}, {'ytick.left': True})"
      ],
      "execution_count": 0,
      "outputs": []
    },
    {
      "cell_type": "code",
      "metadata": {
        "ExecuteTime": {
          "end_time": "2019-12-17T03:11:21.167478Z",
          "start_time": "2019-12-17T03:11:21.163487Z"
        },
        "id": "NayF9qBi5G0F",
        "colab_type": "code",
        "outputId": "c7177117-bb08-4f75-b5cc-4a9967eb68f3",
        "colab": {
          "base_uri": "https://localhost:8080/",
          "height": 616
        }
      },
      "source": [
        "corr_heatmap(data)"
      ],
      "execution_count": 18,
      "outputs": [
        {
          "output_type": "display_data",
          "data": {
            "image/png": "[encoded data removed]",
            "text/plain": [
              "<Figure size 792x1080 with 2 Axes>"
            ]
          },
          "metadata": {
            "tags": []
          }
        }
      ]
    }
  ]
}